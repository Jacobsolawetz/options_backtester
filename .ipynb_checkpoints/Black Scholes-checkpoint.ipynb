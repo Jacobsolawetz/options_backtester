{
 "cells": [
  {
   "cell_type": "code",
   "execution_count": 8,
   "metadata": {},
   "outputs": [],
   "source": [
    "import math\n",
    "from scipy.stats import norm\n",
    "import pandas as pd\n",
    "from datetime import date\n",
    "import numpy as np\n",
    "%matplotlib inline\n",
    "\n",
    "\n",
    "class Option:\n",
    "    \"\"\"\n",
    "    This class will group the different black-shcoles calculations for an option\n",
    "    \"\"\"\n",
    "    def __init__(self, buy_sell, right, s, k, t, price = None, rf = 0.01, vol = 0.3,\n",
    "                 div = 0):\n",
    "        self.k = float(k)\n",
    "        self.s = float(s)\n",
    "        self.rf = float(rf)\n",
    "        self.vol = float(vol)\n",
    "        self.t = float(t)\n",
    "        if self.t == 0: self.t = 0.000001 ## Case valuation in expiration date\n",
    "        self.price = price\n",
    "        self.right = right   ## 'C' or 'P'\n",
    "        self.div = div\n",
    "        self.buy_sell = buy_sell\n",
    "        \n",
    "    '''\n",
    "    def calculate_t(self):\n",
    "        if isinstance(self.eval_date, basestring):\n",
    "            if '/' in self.eval_date:\n",
    "                (day, month, year) = self.eval_date.split('/')\n",
    "            else:\n",
    "                (day, month, year) = self.eval_date[6:8], self.eval_date[4:6], self.eval_date[0:4]\n",
    "            d0 = date(int(year), int(month), int(day))\n",
    "        elif type(self.eval_date)==float or type(self.eval_date)==long or type(self.eval_date)==np.float64:\n",
    "            (day, month, year) = (str(self.eval_date)[6:8], str(self.eval_date)[4:6], str(self.eval_date)[0:4])\n",
    "            d0 = date(int(year), int(month), int(day))\n",
    "        else:\n",
    "            d0 = self.eval_date \n",
    " \n",
    "        if isinstance(self.exp_date, basestring):\n",
    "            if '/' in self.exp_date:\n",
    "                (day, month, year) = self.exp_date.split('/')\n",
    "            else:\n",
    "                (day, month, year) = self.exp_date[6:8], self.exp_date[4:6], self.exp_date[0:4]\n",
    "            d1 = date(int(year), int(month), int(day))\n",
    "        elif type(self.exp_date)==float or type(self.exp_date)==long or type(self.exp_date)==np.float64:\n",
    "            (day, month, year) = (str(self.exp_date)[6:8], str(self.exp_date)[4:6], str(self.exp_date)[0:4])\n",
    "            d1 = date(int(year), int(month), int(day))\n",
    "        else:\n",
    "            d1 = self.exp_date\n",
    " \n",
    "        return (d1 - d0).days / 365.0\n",
    "    '''\n",
    "    \n",
    "    def get_price_delta(self):\n",
    "        d1 = ( math.log(self.s/self.k) + ( self.rf + self.div + math.pow( self.vol, 2)/2 ) * self.t ) / ( self.vol * math.sqrt(self.t) )\n",
    "        d2 = d1 - self.vol * math.sqrt(self.t)\n",
    "        if self.right == 'C':\n",
    "            self.calc_price = ( norm.cdf(d1) * self.s * math.exp(-self.div*self.t) - norm.cdf(d2) * self.k * math.exp( -self.rf * self.t ) )\n",
    "            self.delta = norm.cdf(d1)\n",
    "            if self.buy_sell == 'SELL':\n",
    "                self.calc_price = -self.calc_price\n",
    "                self.delta = -self.delta\n",
    "                \n",
    "        elif self.right == 'P':\n",
    "            self.calc_price =  ( -norm.cdf(-d1) * self.s * math.exp(-self.div*self.t) + norm.cdf(-d2) * self.k * math.exp( -self.rf * self.t ) )\n",
    "            self.delta = -norm.cdf(-d1)\n",
    "            if self.buy_sell == 'SELL':\n",
    "                self.calc_price = -self.calc_price\n",
    "                self.delta = -self.delta\n",
    "                \n",
    " \n",
    "    def get_call(self):\n",
    "        d1 = ( math.log(self.s/self.k) + ( self.rf + math.pow( self.vol, 2)/2 ) * self.t ) / ( self.vol * math.sqrt(self.t) )\n",
    "        d2 = d1 - self.vol * math.sqrt(self.t)\n",
    "        self.call = ( norm.cdf(d1) * self.s - norm.cdf(d2) * self.k * math.exp( -self.rf * self.t ) )\n",
    "        #put =  ( -norm.cdf(-d1) * self.s + norm.cdf(-d2) * self.k * math.exp( -self.rf * self.t ) ) \n",
    "        self.call_delta = norm.cdf(d1)\n",
    " \n",
    " \n",
    "    def get_put(self):\n",
    "        d1 = ( math.log(self.s/self.k) + ( self.rf + math.pow( self.vol, 2)/2 ) * self.t ) / ( self.vol * math.sqrt(self.t) )\n",
    "        d2 = d1 - self.vol * math.sqrt(self.t)\n",
    "        #call = ( norm.cdf(d1) * self.s - norm.cdf(d2) * self.k * math.exp( -self.rf * self.t ) )\n",
    "        self.put =  ( -norm.cdf(-d1) * self.s + norm.cdf(-d2) * self.k * math.exp( -self.rf * self.t ) )\n",
    "        self.put_delta = -norm.cdf(-d1) \n",
    " \n",
    "     \n",
    "    #we could redo with black scholes greek\n",
    "    def get_theta(self, dt = 0.0027777):\n",
    "        self.t += dt\n",
    "        self.get_price_delta()\n",
    "        after_price = self.calc_price\n",
    "        self.t -= dt\n",
    "        self.get_price_delta()\n",
    "        orig_price = self.calc_price\n",
    "        self.theta = (after_price - orig_price) * (-1)\n",
    "        if self.buy_sell == 'SELL':\n",
    "            self.theta = -self.theta\n",
    " \n",
    " \n",
    "    def get_gamma(self, ds = 0.01):\n",
    "        self.s += ds\n",
    "        self.get_price_delta()\n",
    "        after_delta = self.delta\n",
    "        self.s -= ds\n",
    "        self.get_price_delta()\n",
    "        orig_delta = self.delta\n",
    "        self.gamma = (after_delta - orig_delta) / ds\n",
    "        if self.buy_sell == 'SELL':\n",
    "            self.gamma = -self.gamma\n",
    "        \n",
    "    def get_vega(self, dv = 0.0002):\n",
    "        self.vol += dv\n",
    "        self.get_price_delta()\n",
    "        after_price = self.calc_price\n",
    "        self.vol -= dv\n",
    "        self.get_price_delta()\n",
    "        orig_price = self.calc_price\n",
    "        self.vega = ((after_price - orig_price) / dv) / 100\n",
    "        if self.buy_sell == 'SELL':\n",
    "            self.vega = -self.vega\n",
    " \n",
    "    def get_all(self):\n",
    "        self.get_price_delta()\n",
    "        self.get_theta()\n",
    "        self.get_gamma()\n",
    "        self.get_vega()\n",
    "        return self.calc_price, self.delta, self.theta, self.gamma, self.vega\n",
    "    \n",
    "    def get_k(self):\n",
    "        return self.k\n",
    "    \n",
    "    def __str__(self):\n",
    "        return self.right + \" - \" + str(self.k) + \" - \" + self.buy_sell\n"
   ]
  },
  {
   "cell_type": "code",
   "execution_count": 9,
   "metadata": {},
   "outputs": [],
   "source": [
    "S = 2448\n",
    "#price of underlying\n",
    "K = 2375\n",
    "#strike price\n",
    "T = 379/365\n",
    "#time until expiration expressed as a portion of a year\n",
    "#252\n",
    "r = .0278819\n",
    "#yearly risk free rate\n",
    "sigma = .16855\n",
    "#annual volatility (implied volatility)\n",
    "#tested on TD ameritrade prices\n"
   ]
  },
  {
   "cell_type": "code",
   "execution_count": 37,
   "metadata": {},
   "outputs": [
    {
     "data": {
      "text/plain": [
       "-0.2823667025666776"
      ]
     },
     "execution_count": 37,
     "metadata": {},
     "output_type": "execute_result"
    }
   ],
   "source": [
    "S = 2584.96\n",
    "K = 2530\n",
    "T = 30/365\n",
    "#time until expiration expressed as a portion of a year\n",
    "#252\n",
    "r = .0278819\n",
    "sigma = .1497\n",
    "#get_implied_vol('C', K, S, VIX, 0)\n",
    "o = Option('BUY', 'P', S, K, T, price = None, rf = 0.028, vol = sigma,\n",
    "                 div = .0)\n",
    "o.get_price_delta()\n",
    "o.delta"
   ]
  },
  {
   "cell_type": "code",
   "execution_count": 38,
   "metadata": {},
   "outputs": [
    {
     "data": {
      "text/plain": [
       "2524.391762335557"
      ]
     },
     "execution_count": 38,
     "metadata": {},
     "output_type": "execute_result"
    }
   ],
   "source": [
    "#BSStrikeFromDelta <- function(S0, T, r, sigma, delta, right)\n",
    "#{\n",
    "#strike <- ifelse(right==\"C\", \n",
    "#S0 * exp(-qnorm(delta * exp((r)*T) ) * sigma * sqrt(T) + ((sigma^2)/2) * T),\n",
    "#S0 * exp(qnorm(delta* exp((r)*T) ) * sigma * sqrt(T) + ((sigma^2)/2) * T))\n",
    "#return( strike);\n",
    "#}   \n",
    "S = 2584.96\n",
    "K = 2530\n",
    "VIX = 19.98\n",
    "T = 30/365\n",
    "#time until expiration expressed as a portion of a year\n",
    "#252\n",
    "r = .0278819\n",
    "sigma = .1497\n",
    "delta = 0.2823667025666776\n",
    "\n",
    "from scipy.stats import norm\n",
    "\n",
    "#it comes down to moneyness\n",
    "#\n",
    "def strike_from_delta(S0, T, r, sigma, delta, right):\n",
    "    if right == 'C':\n",
    "        strike = S0 * math.exp(-norm.ppf(delta * math.exp ((r)*T) ) * sigma * math.sqrt(T) + ((math.pow(sigma,2.0))/2.0)* T)\n",
    "    if right == 'P':\n",
    "        strike = S0 * math.exp(norm.ppf(delta * math.exp ((r)*T) ) * sigma * math.sqrt(T) + ((math.pow(sigma,2.0))/2.0)* T)\n",
    "    return strike\n",
    "\n",
    "strike_from_delta(S,T,r,sigma,delta,'P')"
   ]
  },
  {
   "cell_type": "code",
   "execution_count": 12,
   "metadata": {},
   "outputs": [],
   "source": [
    "#function to map VIX, K, SKEW to an implied volatility on the volatilty smile curve\n",
    "#this can and SHOULD be improved. More accurately modeling the non-linearity and factoring in a time element\n",
    "#function to map VIX, K, SKEW to an implied volatility on the volatilty smile curve\n",
    "def get_implied_vol(option_type, k, s, vix, skew):\n",
    "    #assumptions - these were empirically based on \"Fitting the Smile.xlx\" and the idea that implied volatility \n",
    "    #increases mostly linearly with some none linearity defined by the skewness of the underlying distribution\n",
    "    #measured by CBOE skew\n",
    "    #Assumed Parameters\n",
    "    \n",
    "    skew = (skew - 100) / (-10)\n",
    "    vix_multiplier = .85\n",
    "    otm_multiplier = 75\n",
    "    skew_multiplier = 2\n",
    "    skew_power = 4\n",
    "    otm = abs((s - k)) / s\n",
    "    #starts at a base of the VIX, linear in %otm, nonlinear in skew\n",
    "    if option_type == 'P':\n",
    "        implied_vol = vix_multiplier*vix + otm_multiplier*otm #+ skew_multiplier*math.pow((1 + otm),(skew_power)) * (-1) * skew \\\n",
    "                                                                                        #+ skew_multiplier * skew\n",
    "    if option_type == 'C':\n",
    "        #calls decrease in implied vol and then increase again\n",
    "        #again we could improve the model\n",
    "        otm_shift = abs(.08 - otm) - .08\n",
    "        implied_vol = vix_multiplier*vix + otm_multiplier*otm_shift\n",
    "        \n",
    "    return implied_vol\n",
    "\n",
    "\n",
    "\n",
    "#given market conditions, calculate how far OTM to place your strike\n",
    "#Per Josh - FLOOR(EXP(D3/100*SQRT(1/12)*-Inputs!$B$4)*C3,1)\n",
    "#what is the z-score that holds the most consistency \n",
    "#30 delta on a 10 vol? 30 delta on on a 30 vol?  - your mindset is going to change \n",
    "#vix is at record lows maybe we turn it off\n",
    "#if vix is at a given range you can be more aggressive \n",
    "\n",
    "def calculate_strike(option_type, SPY, VIX, Z_SCORE):\n",
    "    if option_type == 'P':\n",
    "        return math.exp((VIX/100) * (math.pow(1/12, 1/2))*-Z_SCORE)*SPY\n",
    "    if option_type == 'C': \n",
    "        return math.exp((VIX/100) * (math.pow(1/12, 1/2))*Z_SCORE)*SPY\n",
    "\n",
    "from datetime import datetime\n",
    "def is_third_friday(d):\n",
    "    #d = datetime.strptime(s, '%b %d, %Y')\n",
    "    return (d.weekday() == 4 and 15 <= d.day <= 21) or d in \\\n",
    "            [datetime.strptime('20Apr2000', '%d%b%Y'), datetime.strptime('16Apr1992', '%d%b%Y') \\\n",
    "             , datetime.strptime('17Apr2014', '%d%b%Y'), datetime.strptime('20Mar2008', '%d%b%Y') \\\n",
    "            ,datetime.strptime('17Apr2003', '%d%b%Y')]#scrub CME data '2000-4-20' '1992-4-16' '2003-4-17' '2008-03-20' '2014-4-17'\n",
    "\n"
   ]
  },
  {
   "cell_type": "code",
   "execution_count": 13,
   "metadata": {},
   "outputs": [],
   "source": [
    "#load in spy, vix, skew data\n",
    "import pandas as pd\n",
    "market_prices = pd.read_csv('Spy_Vix_Skew_Data.csv')\n",
    "\n",
    "market_prices['DATE'] = pd.to_datetime(market_prices['DATE'])\n",
    "market_prices['SPY'] = pd.to_numeric(market_prices['SPY'])\n",
    "market_prices['VIX'] = pd.to_numeric(market_prices['VIX'])\n",
    "market_prices['SKEW'] = pd.to_numeric(market_prices['SKEW'])\n"
   ]
  },
  {
   "cell_type": "code",
   "execution_count": 19,
   "metadata": {},
   "outputs": [],
   "source": [
    "import pandas_market_calendars as mcal\n",
    "\n",
    "#roll parameter expressed in trading days before contract is due\n",
    "roll_day = 10\n",
    "cme = mcal.get_calendar('CME')\n",
    "\n",
    "schedule = cme.schedule(start_date='1990-1-1', end_date='2019-1-1')\n",
    "schedule = schedule.reset_index()\n",
    "schedule = schedule.rename(index=str, columns={\"index\": \"date\"})\n",
    "schedule2 = schedule.set_index('date')\n",
    "market_prices2 = market_prices.set_index('DATE')\n",
    "bt_df = schedule2.join(market_prices2, how = 'left')\n",
    "#for n/a dates fill from the previous close\n",
    "bt_df = bt_df.fillna(method='ffill')\n",
    "bt_df = bt_df[~bt_df['SPY'].isnull()]\n",
    "bt_df = bt_df.reset_index()\n",
    "bt_df = bt_df.rename(index=str, columns={\"index\": \"date\"})\n",
    "bt_df['VIX'] = pd.to_numeric(bt_df['VIX'])\n",
    "bt_df = bt_df.drop(['market_open', 'market_close'], axis = 1)\n"
   ]
  },
  {
   "cell_type": "code",
   "execution_count": 20,
   "metadata": {
    "scrolled": true
   },
   "outputs": [
    {
     "name": "stderr",
     "output_type": "stream",
     "text": [
      "/Users/jacobsolawetz/anaconda2/envs/py36/lib/python3.6/site-packages/ipykernel_launcher.py:8: SettingWithCopyWarning: \n",
      "A value is trying to be set on a copy of a slice from a DataFrame.\n",
      "Try using .loc[row_indexer,col_indexer] = value instead\n",
      "\n",
      "See the caveats in the documentation: http://pandas.pydata.org/pandas-docs/stable/indexing.html#indexing-view-versus-copy\n",
      "  \n",
      "/Users/jacobsolawetz/anaconda2/envs/py36/lib/python3.6/site-packages/ipykernel_launcher.py:10: SettingWithCopyWarning: \n",
      "A value is trying to be set on a copy of a slice from a DataFrame.\n",
      "Try using .loc[row_indexer,col_indexer] = value instead\n",
      "\n",
      "See the caveats in the documentation: http://pandas.pydata.org/pandas-docs/stable/indexing.html#indexing-view-versus-copy\n",
      "  # Remove the CWD from sys.path while we load stuff.\n",
      "/Users/jacobsolawetz/anaconda2/envs/py36/lib/python3.6/site-packages/ipykernel_launcher.py:11: SettingWithCopyWarning: \n",
      "A value is trying to be set on a copy of a slice from a DataFrame.\n",
      "Try using .loc[row_indexer,col_indexer] = value instead\n",
      "\n",
      "See the caveats in the documentation: http://pandas.pydata.org/pandas-docs/stable/indexing.html#indexing-view-versus-copy\n",
      "  # This is added back by InteractiveShellApp.init_path()\n",
      "/Users/jacobsolawetz/anaconda2/envs/py36/lib/python3.6/site-packages/ipykernel_launcher.py:13: SettingWithCopyWarning: \n",
      "A value is trying to be set on a copy of a slice from a DataFrame.\n",
      "Try using .loc[row_indexer,col_indexer] = value instead\n",
      "\n",
      "See the caveats in the documentation: http://pandas.pydata.org/pandas-docs/stable/indexing.html#indexing-view-versus-copy\n",
      "  del sys.path[0]\n",
      "/Users/jacobsolawetz/anaconda2/envs/py36/lib/python3.6/site-packages/ipykernel_launcher.py:14: SettingWithCopyWarning: \n",
      "A value is trying to be set on a copy of a slice from a DataFrame.\n",
      "Try using .loc[row_indexer,col_indexer] = value instead\n",
      "\n",
      "See the caveats in the documentation: http://pandas.pydata.org/pandas-docs/stable/indexing.html#indexing-view-versus-copy\n",
      "  \n",
      "/Users/jacobsolawetz/anaconda2/envs/py36/lib/python3.6/site-packages/ipykernel_launcher.py:15: SettingWithCopyWarning: \n",
      "A value is trying to be set on a copy of a slice from a DataFrame.\n",
      "Try using .loc[row_indexer,col_indexer] = value instead\n",
      "\n",
      "See the caveats in the documentation: http://pandas.pydata.org/pandas-docs/stable/indexing.html#indexing-view-versus-copy\n",
      "  from ipykernel import kernelapp as app\n",
      "/Users/jacobsolawetz/anaconda2/envs/py36/lib/python3.6/site-packages/ipykernel_launcher.py:16: SettingWithCopyWarning: \n",
      "A value is trying to be set on a copy of a slice from a DataFrame.\n",
      "Try using .loc[row_indexer,col_indexer] = value instead\n",
      "\n",
      "See the caveats in the documentation: http://pandas.pydata.org/pandas-docs/stable/indexing.html#indexing-view-versus-copy\n",
      "  app.launch_new_instance()\n"
     ]
    }
   ],
   "source": [
    "#define a list of options to include in the roll \n",
    "#first position is put or call, second position is how many z-scores from the spot, and to buy or sell at roll time\n",
    "roll_day = 10\n",
    "#list of 3rd fridays on the CME\n",
    "#when we generalize to multiple option portfolios we could loop through this block of code for each option that is rolled\n",
    "\n",
    "third_friday = bt_df[bt_df['date'].apply(is_third_friday)]\n",
    "third_friday['next_expiration'] = third_friday['date'].shift(-1)\n",
    "#find roll dates from schedule\n",
    "third_friday['roll_date'] = list(bt_df[bt_df.index.isin([ str(int(x) - roll_day) for  x in list(third_friday.index)])]['date'])\n",
    "third_friday['next_roll_date'] = third_friday['roll_date'].shift(-1)\n",
    "\n",
    "third_friday['SPY'] = list(bt_df[bt_df.index.isin([ str(int(x) - roll_day) for  x in list(third_friday.index)])]['SPY'])\n",
    "third_friday['VIX'] = list(bt_df[bt_df.index.isin([ str(int(x) - roll_day) for  x in list(third_friday.index)])]['VIX'])\n",
    "third_friday['SKEW'] = list(bt_df[bt_df.index.isin([ str(int(x) - roll_day) for  x in list(third_friday.index)])]['SKEW'])\n",
    "third_friday['days_to_expir'] =  (third_friday['next_expiration'] - third_friday['roll_date']).dt.days\n",
    "third_friday = third_friday[~third_friday['days_to_expir'].isnull()]\n"
   ]
  },
  {
   "cell_type": "code",
   "execution_count": 83,
   "metadata": {},
   "outputs": [],
   "source": [
    "import pandas as pd\n",
    "import sqlite3\n",
    "conn = sqlite3.connect(':memory:')\n",
    "#massage datetypes\n",
    "bt_df.to_sql('bt',conn, index = False)\n",
    "third_friday.to_sql('tf', conn, index = False)\n",
    "qry = \"\"\"select \n",
    "            bt.*, tf.next_expiration, tf.days_to_expir as roll_days_to_expir, tf.roll_date, tf.next_roll_date,\n",
    "            tf.SPY as roll_SPY, tf.VIX as roll_VIX, tf.SKEW as roll_SKEW\n",
    "        from bt\n",
    "        left join\n",
    "        tf on bt.date >= tf.roll_date and bt.date < tf.next_roll_date\"\"\"\n",
    "df = pd.read_sql_query(qry,conn)\n",
    "df['next_expiration'] = pd.to_datetime(df['next_expiration'])\n",
    "df['roll_date'] = pd.to_datetime(df['roll_date'])\n",
    "df['next_roll_date'] = pd.to_datetime(df['next_roll_date'])\n",
    "df['date'] = pd.to_datetime(df['date'])\n",
    "df['days_to_expir'] =  (df['next_expiration'] - df['date']).dt.days\n",
    "df = df[~df['next_expiration'].isnull()]\n",
    "#now the backtest framework is set up"
   ]
  },
  {
   "cell_type": "code",
   "execution_count": 84,
   "metadata": {},
   "outputs": [],
   "source": [
    "#now we want to loop through and create options objects that we bought and sold at the roll\n",
    "strategy = [['P',1.0,'SELL']]\n",
    "rolled_options = []\n",
    "rolled_strikes = []\n",
    "rolled_prices = []\n",
    "for index, row in df.iterrows():\n",
    "    #hardcoding 2 as risk free rate for now\n",
    "    options_rolled = []\n",
    "    option_strikes = []\n",
    "    option_prices = []\n",
    "    for option in strategy:\n",
    "        option_type = option[0]\n",
    "        zscore = option[1]\n",
    "        buy_sell = option[2]\n",
    "        #30 delta put\n",
    "        #problem is we don't know implied vol until we define strike\n",
    "        #don't know strike until we get implied vol\n",
    "        #strike = strike_from_delta(row['roll_SPY'],row['roll_days_to_expir']/365,.01,row['roll_VIX']/100,.30,option_type)\n",
    "        strike = calculate_strike(option_type, row['roll_SPY'], row['roll_VIX'], zscore)\n",
    "        implied_vol = get_implied_vol(option_type, strike, row['roll_SPY'], row['roll_VIX'], row['roll_SKEW'])    \n",
    "        o = Option(buy_sell, option_type, row['roll_SPY'], strike, row['roll_days_to_expir']/365, None, .01, implied_vol/100, 0.03)\n",
    "        o.get_price_delta()\n",
    "        options_rolled.append([o])\n",
    "        option_strikes.append(strike)\n",
    "        option_prices.append(o.calc_price)\n",
    "    rolled_options.append(options_rolled)\n",
    "    rolled_strikes.append(option_strikes)\n",
    "    rolled_prices.append(option_prices)\n",
    "df['rolled_options'] = rolled_options\n",
    "df['rolled_strikes'] = rolled_strikes\n",
    "df['rolled_prices'] = rolled_prices\n"
   ]
  },
  {
   "cell_type": "code",
   "execution_count": 85,
   "metadata": {},
   "outputs": [],
   "source": [
    "df['previous_rolled_strikes'] = df['rolled_strikes'].shift(1)\n",
    "df['previous_rolled_strikes'] = df['previous_rolled_strikes'].fillna(method = 'bfill')\n",
    "df['previous_days_to_expir'] = (df['next_expiration'].shift(1).fillna(method = 'bfill') - df['date']).dt.days\n"
   ]
  },
  {
   "cell_type": "code",
   "execution_count": 86,
   "metadata": {},
   "outputs": [],
   "source": [
    "#now we create a time series of the same options measured as time decays and the market moves\n",
    "strategy = [['P',1.0,'SELL']]\n",
    "options_list = []\n",
    "prices_list = []\n",
    "delta_list = []\n",
    "vega_list = []\n",
    "theta_list = []\n",
    "gamma_list = []\n",
    "portfolio_prices = []\n",
    "portfolio_deltas = []\n",
    "portfolio_vegas = []\n",
    "portfolio_thetas = []\n",
    "portfolio_gammas = []\n",
    "previous_option_price = []\n",
    "\n",
    "for index, row in df.iterrows():\n",
    "    #hardcoding 2 as risk free rate for now\n",
    "    options = []\n",
    "    prices = []\n",
    "    deltas = []\n",
    "    vegas = []\n",
    "    thetas = []\n",
    "    gammas = []\n",
    "    previous_rolled_option_price = []\n",
    "    for i, option in enumerate(strategy):\n",
    "        \n",
    "        option_type = option[0]\n",
    "        zscore = option[1]\n",
    "        buy_sell = option[2]\n",
    "        strike = row['rolled_strikes'][i]\n",
    "        implied_vol = get_implied_vol(option_type, strike, row['SPY'], row['VIX'], row['SKEW'])    \n",
    "        o = Option(buy_sell, option_type, row['SPY'], strike, row['days_to_expir']/365, None, .02, implied_vol/100, 0.03)\n",
    "        o.get_price_delta()\n",
    "        options.append([o])\n",
    "        prices.append(o.calc_price)\n",
    "        deltas.append(o.delta)\n",
    "        o.get_vega()\n",
    "        vegas.append(o.vega)\n",
    "        o.get_theta()\n",
    "        thetas.append(o.theta)\n",
    "        o.get_gamma()\n",
    "        gammas.append(o.gamma)\n",
    "        \n",
    "        ##caculate price on previously rolled option\n",
    "        ##if backtester is too slow we could add in a codition that it must be roll to caculate, otherwise previous option = current option\n",
    "        previous_strike = row['previous_rolled_strikes'][i]\n",
    "        previous_implied_vol = get_implied_vol(option_type, previous_strike, row['SPY'], row['VIX'], row['SKEW']) \n",
    "        o_previous = Option(buy_sell, option_type, row['SPY'], previous_strike, row['previous_days_to_expir']/365, None, .02, previous_implied_vol/100, 0.03)\n",
    "        o_previous.get_price_delta()\n",
    "        previous_rolled_option_price.append(o_previous.calc_price)\n",
    "        \n",
    "        \n",
    "    previous_option_price.append(previous_rolled_option_price)\n",
    "    options_list.append(options)\n",
    "    prices_list.append(prices)\n",
    "    delta_list.append(deltas)\n",
    "    vega_list.append(vegas)\n",
    "    theta_list.append(thetas)\n",
    "    gamma_list.append(gammas)\n",
    "    #averages for portfolio attributes\n",
    "    portfolio_price = sum(prices)/float(len(prices))\n",
    "    portfolio_delta = sum(deltas)/float(len(deltas))\n",
    "    portfolio_vega = sum(vegas)/float(len(vegas))\n",
    "    portfolio_theta = sum(thetas)/float(len(thetas))\n",
    "    portfolio_gamma = sum(gammas)/float(len(gammas))\n",
    "    portfolio_prices.append(portfolio_price)\n",
    "    portfolio_deltas.append(portfolio_delta)\n",
    "    portfolio_vegas.append(portfolio_vega)\n",
    "    portfolio_thetas.append(portfolio_theta)\n",
    "    portfolio_gammas.append(portfolio_gamma)\n",
    "\n",
    "    \n",
    "    \n",
    "df['previous_option_current_price'] = previous_option_price\n",
    "df['options'] = options_list\n",
    "df['prices'] = prices_list\n",
    "df['deltas'] = delta_list\n",
    "df['vegas'] = vega_list\n",
    "df['thetas'] = theta_list\n",
    "df['gammas'] = gamma_list\n",
    "df['portfolio_price'] = portfolio_prices\n",
    "df['portfolio_delta'] = portfolio_deltas\n",
    "df['portfolio_vega'] = portfolio_vegas\n",
    "df['portfolio_theta'] = portfolio_thetas\n",
    "df['portfolio_gamma'] = portfolio_gammas\n"
   ]
  },
  {
   "cell_type": "code",
   "execution_count": 87,
   "metadata": {},
   "outputs": [],
   "source": [
    "df['previous_prices'] = df['prices'].shift(1)\n",
    "df['previous_prices'] = df['previous_prices'].fillna(method = 'bfill')"
   ]
  },
  {
   "cell_type": "code",
   "execution_count": 88,
   "metadata": {},
   "outputs": [
    {
     "data": {
      "text/html": [
       "<div>\n",
       "<style scoped>\n",
       "    .dataframe tbody tr th:only-of-type {\n",
       "        vertical-align: middle;\n",
       "    }\n",
       "\n",
       "    .dataframe tbody tr th {\n",
       "        vertical-align: top;\n",
       "    }\n",
       "\n",
       "    .dataframe thead th {\n",
       "        text-align: right;\n",
       "    }\n",
       "</style>\n",
       "<table border=\"1\" class=\"dataframe\">\n",
       "  <thead>\n",
       "    <tr style=\"text-align: right;\">\n",
       "      <th></th>\n",
       "      <th>date</th>\n",
       "      <th>SPY</th>\n",
       "      <th>VIX</th>\n",
       "      <th>roll_date</th>\n",
       "      <th>prices</th>\n",
       "      <th>previous_option_current_price</th>\n",
       "      <th>previous_prices</th>\n",
       "    </tr>\n",
       "  </thead>\n",
       "  <tbody>\n",
       "    <tr>\n",
       "      <th>3</th>\n",
       "      <td>1990-01-05</td>\n",
       "      <td>352.20</td>\n",
       "      <td>20.11</td>\n",
       "      <td>1990-01-05</td>\n",
       "      <td>[-3.004164546472886]</td>\n",
       "      <td>[-3.004164546472886]</td>\n",
       "      <td>[-3.004164546472886]</td>\n",
       "    </tr>\n",
       "    <tr>\n",
       "      <th>4</th>\n",
       "      <td>1990-01-08</td>\n",
       "      <td>353.79</td>\n",
       "      <td>20.26</td>\n",
       "      <td>1990-01-05</td>\n",
       "      <td>[-2.582250947833039]</td>\n",
       "      <td>[-2.582250947833039]</td>\n",
       "      <td>[-3.004164546472886]</td>\n",
       "    </tr>\n",
       "    <tr>\n",
       "      <th>5</th>\n",
       "      <td>1990-01-09</td>\n",
       "      <td>349.62</td>\n",
       "      <td>22.20</td>\n",
       "      <td>1990-01-05</td>\n",
       "      <td>[-3.6209421809072637]</td>\n",
       "      <td>[-3.6209421809072637]</td>\n",
       "      <td>[-2.582250947833039]</td>\n",
       "    </tr>\n",
       "    <tr>\n",
       "      <th>6</th>\n",
       "      <td>1990-01-10</td>\n",
       "      <td>347.31</td>\n",
       "      <td>22.44</td>\n",
       "      <td>1990-01-05</td>\n",
       "      <td>[-3.9891294361103036]</td>\n",
       "      <td>[-3.9891294361103036]</td>\n",
       "      <td>[-3.6209421809072637]</td>\n",
       "    </tr>\n",
       "    <tr>\n",
       "      <th>7</th>\n",
       "      <td>1990-01-11</td>\n",
       "      <td>348.53</td>\n",
       "      <td>20.05</td>\n",
       "      <td>1990-01-05</td>\n",
       "      <td>[-2.9806212552222178]</td>\n",
       "      <td>[-2.9806212552222178]</td>\n",
       "      <td>[-3.9891294361103036]</td>\n",
       "    </tr>\n",
       "  </tbody>\n",
       "</table>\n",
       "</div>"
      ],
      "text/plain": [
       "        date     SPY    VIX  roll_date                 prices  \\\n",
       "3 1990-01-05  352.20  20.11 1990-01-05   [-3.004164546472886]   \n",
       "4 1990-01-08  353.79  20.26 1990-01-05   [-2.582250947833039]   \n",
       "5 1990-01-09  349.62  22.20 1990-01-05  [-3.6209421809072637]   \n",
       "6 1990-01-10  347.31  22.44 1990-01-05  [-3.9891294361103036]   \n",
       "7 1990-01-11  348.53  20.05 1990-01-05  [-2.9806212552222178]   \n",
       "\n",
       "  previous_option_current_price        previous_prices  \n",
       "3          [-3.004164546472886]   [-3.004164546472886]  \n",
       "4          [-2.582250947833039]   [-3.004164546472886]  \n",
       "5         [-3.6209421809072637]   [-2.582250947833039]  \n",
       "6         [-3.9891294361103036]  [-3.6209421809072637]  \n",
       "7         [-2.9806212552222178]  [-3.9891294361103036]  "
      ]
     },
     "execution_count": 88,
     "metadata": {},
     "output_type": "execute_result"
    }
   ],
   "source": [
    "df[['date','SPY', 'VIX','roll_date', 'prices', 'previous_option_current_price', 'previous_prices']].head()"
   ]
  },
  {
   "cell_type": "code",
   "execution_count": 89,
   "metadata": {},
   "outputs": [],
   "source": [
    "###calculate daily returns\n",
    "###way to measure true dollar risk exposure?\n",
    "###\n",
    "strategy = [['P',1.0,'SELL']]\n",
    "returns_list = []\n",
    "portfolio_returns = []\n",
    "for index, row in df.iterrows():\n",
    "    returns = []\n",
    "    for i, option in enumerate(strategy):\n",
    "        if i == 0:\n",
    "            #log the put's stike to calculate other returns and leverage from\n",
    "            #key assumption - all leverage revolves around the sold put\n",
    "            previous_rolled_strike = row['previous_rolled_strikes'][i]\n",
    "        current_price = row['previous_option_current_price'][i]\n",
    "        previous_price = row['previous_prices'][i]\n",
    "        ret = (current_price - previous_price)/previous_rolled_strike\n",
    "        returns.append(ret)\n",
    "    returns_list.append(returns)\n",
    "    portfolio_return = sum(returns)\n",
    "    portfolio_returns.append(portfolio_return)\n",
    "\n",
    "df['returns_list'] = returns_list\n",
    "df['portfolio_returns_raw'] = portfolio_returns\n",
    "#Lever\n",
    "df['portfolio_returns_raw'] = df['portfolio_returns_raw'] * 3\n",
    "#lever other portfolio metrics as well like greeks\n",
    "    \n"
   ]
  },
  {
   "cell_type": "code",
   "execution_count": 90,
   "metadata": {
    "scrolled": true
   },
   "outputs": [],
   "source": [
    "#cum_sum of returns within roll period\n",
    "df['roll_period'] = df['roll_date'].shift(1)\n",
    "df['roll_period'] = df['roll_period'].fillna(method = 'bfill')\n",
    "df['next_roll_period'] = df['next_roll_date'].shift(1)\n",
    "df['next_roll_period'] = df['next_roll_period'].fillna(method = 'bfill')\n",
    "\n",
    "\n",
    "df['roll_cumulative_return_raw'] = df.groupby('roll_period')['portfolio_returns_raw'].cumsum()\n"
   ]
  },
  {
   "cell_type": "code",
   "execution_count": 384,
   "metadata": {},
   "outputs": [],
   "source": [
    "#i think i am matching Josh pretty well\n",
    "#(1 + df[(df['date'] > '1993-2-25') & (df['date'] < '2011-9-16')].groupby('roll_period')['roll_cumulative_return_raw'].last()).cumprod().plot()"
   ]
  },
  {
   "cell_type": "code",
   "execution_count": 91,
   "metadata": {},
   "outputs": [],
   "source": [
    "#here we start each roll out with the cumulative returns of rolls before it\n",
    "\n",
    "cum_rolls = (df.groupby('next_roll_period')['roll_cumulative_return_raw'].last() + 1).cumprod()\n",
    "cum_rolls = cum_rolls.drop(cum_rolls.index[len(cum_rolls)-1]).rename('previous_roll_return')\n",
    "df = df.set_index('roll_period').join(cum_rolls, how = 'left').set_index('date')\n",
    "df['previous_roll_return'] = df['previous_roll_return'].fillna(1)\n",
    "\n",
    "#cumprod of next_roll_period joined to roll_period\n",
    "#bt_df = schedule2.join(market_prices2, how = 'left')\n",
    "#df[['date', 'roll_date', 'roll_period', 'next_roll_date', 'next_roll_period']]"
   ]
  },
  {
   "cell_type": "code",
   "execution_count": 92,
   "metadata": {},
   "outputs": [
    {
     "data": {
      "text/plain": [
       "<matplotlib.axes._subplots.AxesSubplot at 0x1243cc0b8>"
      ]
     },
     "execution_count": 92,
     "metadata": {},
     "output_type": "execute_result"
    },
    {
     "data": {
      "image/png": "[encoded data removed]",
      "text/plain": [
       "<Figure size 432x288 with 1 Axes>"
      ]
     },
     "metadata": {},
     "output_type": "display_data"
    }
   ],
   "source": [
    "df['daily_returns_cumulative'] = (df['roll_cumulative_return_raw'] + 1) * df['previous_roll_return']\n",
    "#df[(df['date'] > '2005-2-25') & (df['date'] < '2011-9-16')]['daily_returns_cumulative'].plot()\n",
    "\n",
    "df[['daily_returns_cumulative']].plot()\n"
   ]
  },
  {
   "cell_type": "code",
   "execution_count": 93,
   "metadata": {},
   "outputs": [
    {
     "data": {
      "text/plain": [
       "<matplotlib.axes._subplots.AxesSubplot at 0x123cd29b0>"
      ]
     },
     "execution_count": 93,
     "metadata": {},
     "output_type": "execute_result"
    },
    {
     "data": {
      "image/png": "[encoded data removed]",
      "text/plain": [
       "<Figure size 432x288 with 1 Axes>"
      ]
     },
     "metadata": {},
     "output_type": "display_data"
    }
   ],
   "source": [
    "df['roll_period'] = df['roll_date'].shift(1)\n",
    "#returns for each roll\n",
    "#we can use a similar method to get roll deltas, ect. \n",
    "df.groupby('roll_period')['roll_cumulative_return_raw'].last().hist(bins=40)"
   ]
  },
  {
   "cell_type": "code",
   "execution_count": 94,
   "metadata": {},
   "outputs": [
    {
     "data": {
      "text/plain": [
       "-0.2841621896558372"
      ]
     },
     "execution_count": 94,
     "metadata": {},
     "output_type": "execute_result"
    }
   ],
   "source": [
    "#max roll drawdown\n",
    "df.groupby('roll_period')['roll_cumulative_return_raw'].last().min()"
   ]
  },
  {
   "cell_type": "code",
   "execution_count": 95,
   "metadata": {},
   "outputs": [
    {
     "data": {
      "text/plain": [
       "0.013342186105801995"
      ]
     },
     "execution_count": 95,
     "metadata": {},
     "output_type": "execute_result"
    }
   ],
   "source": [
    "#mean roll return\n",
    "df.groupby('roll_period')['roll_cumulative_return_raw'].last().mean()"
   ]
  },
  {
   "cell_type": "code",
   "execution_count": 96,
   "metadata": {},
   "outputs": [
    {
     "data": {
      "text/plain": [
       "-0.38061120601630444"
      ]
     },
     "execution_count": 96,
     "metadata": {},
     "output_type": "execute_result"
    }
   ],
   "source": [
    "#max intra roll drawdown\n",
    "df['roll_cumulative_return_raw'].min()"
   ]
  },
  {
   "cell_type": "code",
   "execution_count": 65,
   "metadata": {},
   "outputs": [
    {
     "data": {
      "text/plain": [
       "0.015406229479525734"
      ]
     },
     "execution_count": 65,
     "metadata": {},
     "output_type": "execute_result"
    }
   ],
   "source": [
    "#df.groupby('roll_period')['roll_cumulative_return_raw'].last().mean()*math.pow(12,1/2)"
   ]
  },
  {
   "cell_type": "code",
   "execution_count": 97,
   "metadata": {},
   "outputs": [
    {
     "data": {
      "text/plain": [
       "-0.1875528594064116"
      ]
     },
     "execution_count": 97,
     "metadata": {},
     "output_type": "execute_result"
    }
   ],
   "source": [
    "#max daily drawdown\n",
    "df['portfolio_returns_raw'].min()"
   ]
  },
  {
   "cell_type": "code",
   "execution_count": 67,
   "metadata": {},
   "outputs": [
    {
     "data": {
      "text/plain": [
       "0.00020686946285582185"
      ]
     },
     "execution_count": 67,
     "metadata": {},
     "output_type": "execute_result"
    }
   ],
   "source": [
    "#mean daily return\n",
    "df['portfolio_returns_raw'].mean()"
   ]
  },
  {
   "cell_type": "code",
   "execution_count": 99,
   "metadata": {},
   "outputs": [],
   "source": [
    "df = df.reset_index()"
   ]
  },
  {
   "cell_type": "code",
   "execution_count": 102,
   "metadata": {
    "scrolled": false
   },
   "outputs": [
    {
     "data": {
      "text/plain": [
       "<matplotlib.axes._subplots.AxesSubplot at 0x1231640b8>"
      ]
     },
     "execution_count": 102,
     "metadata": {},
     "output_type": "execute_result"
    },
    {
     "data": {
      "image/png": "[encoded data removed]",
      "text/plain": [
       "<Figure size 432x288 with 1 Axes>"
      ]
     },
     "metadata": {},
     "output_type": "display_data"
    }
   ],
   "source": [
    "yearly_returns = (df.groupby(df['date'].dt.year)['daily_returns_cumulative'].last() / df.groupby(df['date'].dt.year)['daily_returns_cumulative'].last().shift(1).fillna(1)) - 1\n",
    "yearly_returns.plot.bar()"
   ]
  },
  {
   "cell_type": "code",
   "execution_count": 71,
   "metadata": {},
   "outputs": [],
   "source": [
    "#yearly return\n",
    "yearly_return = math.pow(df['daily_returns_cumulative'].iloc[-1], 1/((df['date'].iloc[-1] - df['date'].iloc[0]).days / 365)) - 1"
   ]
  },
  {
   "cell_type": "code",
   "execution_count": 72,
   "metadata": {},
   "outputs": [],
   "source": [
    "#yearly std\n",
    "yearly_std = df.groupby('roll_period')['roll_cumulative_return_raw'].last().std()*math.sqrt(12)"
   ]
  },
  {
   "cell_type": "code",
   "execution_count": 73,
   "metadata": {},
   "outputs": [
    {
     "data": {
      "text/plain": [
       "0.5669972895278591"
      ]
     },
     "execution_count": 73,
     "metadata": {},
     "output_type": "execute_result"
    }
   ],
   "source": [
    "#sharpe ratio\n",
    "(yearly_return - .031) / yearly_std "
   ]
  },
  {
   "cell_type": "code",
   "execution_count": 616,
   "metadata": {
    "scrolled": true
   },
   "outputs": [
    {
     "data": {
      "text/plain": [
       "<matplotlib.axes._subplots.AxesSubplot at 0x28a1ec66be0>"
      ]
     },
     "execution_count": 616,
     "metadata": {},
     "output_type": "execute_result"
    },
    {
     "data": {
      "image/png": "[encoded data removed]",
      "text/plain": [
       "<matplotlib.figure.Figure at 0x28a1b528320>"
      ]
     },
     "metadata": {},
     "output_type": "display_data"
    }
   ],
   "source": [
    "df['portfolio_returns_raw'].hist(bins = 300)"
   ]
  },
  {
   "cell_type": "code",
   "execution_count": 74,
   "metadata": {},
   "outputs": [
    {
     "data": {
      "text/plain": [
       "<matplotlib.axes._subplots.AxesSubplot at 0x123475828>"
      ]
     },
     "execution_count": 74,
     "metadata": {},
     "output_type": "execute_result"
    },
    {
     "data": {
      "image/png": "[encoded data removed]",
      "text/plain": [
       "<Figure size 432x288 with 1 Axes>"
      ]
     },
     "metadata": {},
     "output_type": "display_data"
    }
   ],
   "source": [
    "df['portfolio_delta'].hist(bins=40)"
   ]
  },
  {
   "cell_type": "code",
   "execution_count": 75,
   "metadata": {},
   "outputs": [
    {
     "data": {
      "text/plain": [
       "<matplotlib.axes._subplots.AxesSubplot at 0x12339ee80>"
      ]
     },
     "execution_count": 75,
     "metadata": {},
     "output_type": "execute_result"
    },
    {
     "data": {
      "image/png": "[encoded data removed]",
      "text/plain": [
       "<Figure size 432x288 with 1 Axes>"
      ]
     },
     "metadata": {},
     "output_type": "display_data"
    }
   ],
   "source": [
    "df.set_index('date')['portfolio_delta'].plot()"
   ]
  },
  {
   "cell_type": "code",
   "execution_count": 76,
   "metadata": {},
   "outputs": [
    {
     "data": {
      "text/plain": [
       "<matplotlib.axes._subplots.AxesSubplot at 0x12349f160>"
      ]
     },
     "execution_count": 76,
     "metadata": {},
     "output_type": "execute_result"
    },
    {
     "data": {
      "image/png": "[encoded data removed]",
      "text/plain": [
       "<Figure size 432x288 with 1 Axes>"
      ]
     },
     "metadata": {},
     "output_type": "display_data"
    }
   ],
   "source": [
    "df['portfolio_theta'].hist()"
   ]
  },
  {
   "cell_type": "code",
   "execution_count": 77,
   "metadata": {},
   "outputs": [
    {
     "data": {
      "text/plain": [
       "<matplotlib.axes._subplots.AxesSubplot at 0x12329f588>"
      ]
     },
     "execution_count": 77,
     "metadata": {},
     "output_type": "execute_result"
    },
    {
     "data": {
      "image/png": "[encoded data removed]",
      "text/plain": [
       "<Figure size 432x288 with 1 Axes>"
      ]
     },
     "metadata": {},
     "output_type": "display_data"
    }
   ],
   "source": [
    "df['portfolio_theta'].plot()"
   ]
  },
  {
   "cell_type": "code",
   "execution_count": 78,
   "metadata": {},
   "outputs": [
    {
     "data": {
      "text/plain": [
       "<matplotlib.axes._subplots.AxesSubplot at 0x1237996a0>"
      ]
     },
     "execution_count": 78,
     "metadata": {},
     "output_type": "execute_result"
    },
    {
     "data": {
      "image/png": "[encoded data removed]",
      "text/plain": [
       "<Figure size 432x288 with 1 Axes>"
      ]
     },
     "metadata": {},
     "output_type": "display_data"
    }
   ],
   "source": [
    "df['portfolio_vega'].plot()"
   ]
  },
  {
   "cell_type": "code",
   "execution_count": 79,
   "metadata": {},
   "outputs": [
    {
     "data": {
      "text/plain": [
       "<matplotlib.axes._subplots.AxesSubplot at 0x122c48630>"
      ]
     },
     "execution_count": 79,
     "metadata": {},
     "output_type": "execute_result"
    },
    {
     "data": {
      "image/png": "[encoded data removed]",
      "text/plain": [
       "<Figure size 432x288 with 1 Axes>"
      ]
     },
     "metadata": {},
     "output_type": "display_data"
    }
   ],
   "source": [
    "df.groupby('roll_period')['portfolio_delta'].first().hist(bins=40)"
   ]
  },
  {
   "cell_type": "code",
   "execution_count": 619,
   "metadata": {},
   "outputs": [
    {
     "data": {
      "text/plain": [
       "<matplotlib.axes._subplots.AxesSubplot at 0x28a209e0d68>"
      ]
     },
     "execution_count": 619,
     "metadata": {},
     "output_type": "execute_result"
    },
    {
     "data": {
      "image/png": "[encoded data removed]",
      "text/plain": [
       "<matplotlib.figure.Figure at 0x28a20b2a048>"
      ]
     },
     "metadata": {},
     "output_type": "display_data"
    }
   ],
   "source": [
    "#we could imagine where we set a strike based on delta not Z-score\n",
    "df.groupby('roll_period')['portfolio_delta'].first().plot()\n",
    "\n",
    "#did not get this flat line down"
   ]
  },
  {
   "cell_type": "code",
   "execution_count": 592,
   "metadata": {},
   "outputs": [
    {
     "data": {
      "text/plain": [
       "<matplotlib.axes._subplots.AxesSubplot at 0x28a1d6defd0>"
      ]
     },
     "execution_count": 592,
     "metadata": {},
     "output_type": "execute_result"
    },
    {
     "data": {
      "image/png": "[encoded data removed]",
      "text/plain": [
       "<matplotlib.figure.Figure at 0x28a1d6b3be0>"
      ]
     },
     "metadata": {},
     "output_type": "display_data"
    }
   ],
   "source": [
    "df.groupby('roll_period')['portfolio_theta'].first().hist(bins=40)"
   ]
  },
  {
   "cell_type": "code",
   "execution_count": 593,
   "metadata": {},
   "outputs": [
    {
     "data": {
      "text/plain": [
       "<matplotlib.axes._subplots.AxesSubplot at 0x28a1d70fb00>"
      ]
     },
     "execution_count": 593,
     "metadata": {},
     "output_type": "execute_result"
    },
    {
     "data": {
      "image/png": "[encoded data removed]",
      "text/plain": [
       "<matplotlib.figure.Figure at 0x28a1d7094a8>"
      ]
     },
     "metadata": {},
     "output_type": "display_data"
    }
   ],
   "source": [
    "df.groupby('roll_period')['portfolio_theta'].last().hist(bins=40)"
   ]
  },
  {
   "cell_type": "code",
   "execution_count": null,
   "metadata": {
    "collapsed": true
   },
   "outputs": [],
   "source": []
  }
 ],
 "metadata": {
  "kernelspec": {
   "display_name": "Python 3",
   "language": "python",
   "name": "python3"
  },
  "language_info": {
   "codemirror_mode": {
    "name": "ipython",
    "version": 3
   },
   "file_extension": ".py",
   "mimetype": "text/x-python",
   "name": "python",
   "nbconvert_exporter": "python",
   "pygments_lexer": "ipython3",
   "version": "3.6.5"
  }
 },
 "nbformat": 4,
 "nbformat_minor": 2
}
